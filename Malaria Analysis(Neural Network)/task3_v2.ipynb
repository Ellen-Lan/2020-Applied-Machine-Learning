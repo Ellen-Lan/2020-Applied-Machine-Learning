{
  "nbformat": 4,
  "nbformat_minor": 0,
  "metadata": {
    "colab": {
      "name": "task3 v2.ipynb",
      "provenance": []
    },
    "kernelspec": {
      "name": "python3",
      "display_name": "Python 3"
    },
    "accelerator": "GPU"
  },
  "cells": [
    {
      "cell_type": "code",
      "metadata": {
        "id": "2edHjBHxjnf-",
        "colab_type": "code",
        "colab": {}
      },
      "source": [
        "from keras.datasets import fashion_mnist, mnist\n",
        "from sklearn import datasets\n",
        "import matplotlib.pyplot as plt\n",
        "from keras.models import Sequential\n",
        "from keras.layers import Dense, Activation\n",
        "from sklearn.model_selection import train_test_split\n",
        "from keras import regularizers\n",
        "from keras.wrappers.scikit_learn import KerasClassifier, KerasRegressor\n",
        "from sklearn.model_selection import GridSearchCV\n",
        "import pandas as pd \n",
        "import numpy as np\n",
        "import keras\n",
        "from keras.preprocessing.image import ImageDataGenerator"
      ],
      "execution_count": 0,
      "outputs": []
    },
    {
      "cell_type": "code",
      "metadata": {
        "id": "l5WSOYp3jpRl",
        "colab_type": "code",
        "colab": {}
      },
      "source": [
        "#!wget ftp://lhcftp.nlm.nih.gov/Open-Access-Datasets/Malaria/cell_images.zip\n",
        "#! unzip cell_images.zip"
      ],
      "execution_count": 0,
      "outputs": []
    },
    {
      "cell_type": "code",
      "metadata": {
        "id": "QXsXe8Szjvrx",
        "colab_type": "code",
        "colab": {
          "base_uri": "https://localhost:8080/",
          "height": 132
        },
        "outputId": "e292ef04-e3f9-46b6-ef9a-6767678bfe75"
      },
      "source": [
        "from PIL import Image\n",
        "Image.open(\"cell_images/Parasitized/C189P150ThinF_IMG_20151203_142224_cell_98.png\")"
      ],
      "execution_count": 11,
      "outputs": [
        {
          "output_type": "execute_result",
          "data": {
            "image/png": "[encoded data removed]",
            "text/plain": [
              "<PIL.PngImagePlugin.PngImageFile image mode=RGB size=115x115 at 0x7F27AA6F05F8>"
            ]
          },
          "metadata": {
            "tags": []
          },
          "execution_count": 11
        }
      ]
    },
    {
      "cell_type": "code",
      "metadata": {
        "id": "5xHy3fqVkAxp",
        "colab_type": "code",
        "colab": {
          "base_uri": "https://localhost:8080/",
          "height": 34
        },
        "outputId": "a14e2a7f-3aec-4120-c0db-f78e003e1870"
      },
      "source": [
        "import cv2\n",
        "I = cv2.imread(\"cell_images/Parasitized/C189P150ThinF_IMG_20151203_142224_cell_98.png\")\n",
        "print (I.shape)"
      ],
      "execution_count": 12,
      "outputs": [
        {
          "output_type": "stream",
          "text": [
            "(115, 115, 3)\n"
          ],
          "name": "stdout"
        }
      ]
    },
    {
      "cell_type": "code",
      "metadata": {
        "id": "-vMVIEUZkCvh",
        "colab_type": "code",
        "colab": {
          "base_uri": "https://localhost:8080/",
          "height": 51
        },
        "outputId": "bc8b5680-a77e-4989-95a6-a4c54ed4116b"
      },
      "source": [
        "from skimage import data_dir,io,color\n",
        "path = \"cell_images/Uninfected/*.png\"\n",
        "coll = io.ImageCollection(path)\n",
        "print(len(coll))      #number of the pic\n",
        "print(coll[3].shape)  # Images not in same size"
      ],
      "execution_count": 13,
      "outputs": [
        {
          "output_type": "stream",
          "text": [
            "13779\n",
            "(124, 133, 3)\n"
          ],
          "name": "stdout"
        }
      ]
    },
    {
      "cell_type": "markdown",
      "metadata": {
        "id": "hKwcI86mkG1_",
        "colab_type": "text"
      },
      "source": [
        "Image Prepocessing"
      ]
    },
    {
      "cell_type": "code",
      "metadata": {
        "id": "58FPAYMIkIrx",
        "colab_type": "code",
        "colab": {}
      },
      "source": [
        "import os\n",
        "import numpy as np\n",
        "from tqdm import tqdm\n",
        "from glob import glob\n",
        "img_rows = 100  \n",
        "img_cols = 100 \n",
        "num_classes = 10\n",
        "nub_train = len(glob(\"cell_images/*/*.png\"))\n",
        "#Null array and then add pics' arrays\n",
        "X = np.zeros((nub_train,img_rows,img_cols,3),dtype=np.uint8) \n",
        "y = np.zeros((nub_train,),dtype=np.uint8)"
      ],
      "execution_count": 0,
      "outputs": []
    },
    {
      "cell_type": "code",
      "metadata": {
        "id": "58i1APxXkKhb",
        "colab_type": "code",
        "colab": {
          "base_uri": "https://localhost:8080/",
          "height": 34
        },
        "outputId": "2567d228-7b90-4adf-bea6-0a89948e9047"
      },
      "source": [
        "i = 0\n",
        "for img_path in tqdm(glob(\"cell_images/*/*.png\")):\n",
        "  img = Image.open(img_path)\n",
        "  img = img.resize((img_rows,img_cols)) #Pic resize\n",
        "  arr = np.asarray(img)  #Pic to array\n",
        "  X[i, :, :, :] = arr \n",
        "\n",
        "  if img_path.split('/')[1] == 'Uninfected':\n",
        "    y[i] = 0  #Uninfected as 0\n",
        "  else:\n",
        "    y[i] = 1  #Parasitized as 1\n",
        "        \n",
        "  i += 1"
      ],
      "execution_count": 15,
      "outputs": [
        {
          "output_type": "stream",
          "text": [
            "100%|██████████| 27558/27558 [00:31<00:00, 881.89it/s]\n"
          ],
          "name": "stderr"
        }
      ]
    },
    {
      "cell_type": "code",
      "metadata": {
        "id": "fLU0tmBrkMxX",
        "colab_type": "code",
        "colab": {}
      },
      "source": [
        "y_10 = keras.utils.to_categorical(y, num_classes=2)"
      ],
      "execution_count": 0,
      "outputs": []
    },
    {
      "cell_type": "markdown",
      "metadata": {
        "id": "A7fF5KCskPAw",
        "colab_type": "text"
      },
      "source": [
        "3.1 Start with a convolutional model without residual connections (using batch normalization is likely to be helpful and you should try it, whether you use dropout is your choice)."
      ]
    },
    {
      "cell_type": "code",
      "metadata": {
        "id": "BeMO4GTOkQa3",
        "colab_type": "code",
        "colab": {}
      },
      "source": [
        "from sklearn.model_selection import train_test_split\n",
        "X_train, X_test, y_train, y_test = train_test_split(X, y_10, test_size=0.25, random_state=42)"
      ],
      "execution_count": 0,
      "outputs": []
    },
    {
      "cell_type": "code",
      "metadata": {
        "id": "P4Mp2W66kSzt",
        "colab_type": "code",
        "colab": {}
      },
      "source": [
        "#X_try = X_train[1:1000]\n",
        "#y_try = y_train[1:1000]"
      ],
      "execution_count": 0,
      "outputs": []
    },
    {
      "cell_type": "code",
      "metadata": {
        "id": "OUqy0yajkWMn",
        "colab_type": "code",
        "colab": {}
      },
      "source": [
        "from keras.layers import Conv2D, MaxPooling2D, Flatten\n",
        "input_shape = (img_rows, img_cols, 3)\n",
        "num_classes = 2\n",
        "cnn = Sequential()\n",
        "cnn.add(Conv2D(32, kernel_size=(3, 3),\n",
        "                 activation='relu',\n",
        "                 input_shape=input_shape))\n",
        "cnn.add(MaxPooling2D(pool_size=(2, 2)))\n",
        "cnn.add(Conv2D(32, (3, 3), activation='relu'))\n",
        "cnn.add(MaxPooling2D(pool_size=(2, 2)))\n",
        "cnn.add(Flatten())\n",
        "cnn.add(Dense(64, activation='relu'))\n",
        "cnn.add(Dense(num_classes, activation='softmax'))"
      ],
      "execution_count": 0,
      "outputs": []
    },
    {
      "cell_type": "code",
      "metadata": {
        "id": "4WEgOOtTkdXO",
        "colab_type": "code",
        "colab": {
          "base_uri": "https://localhost:8080/",
          "height": 374
        },
        "outputId": "2f7d28fd-51fb-441d-988b-dec2f565d96c"
      },
      "source": [
        "cnn.compile(\"adam\", \"categorical_crossentropy\", metrics=['accuracy'])\n",
        "history_cnn = cnn.fit(X_train, y_train,\n",
        "                      batch_size=128, epochs=10, verbose=1, validation_split=.1)"
      ],
      "execution_count": 20,
      "outputs": [
        {
          "output_type": "stream",
          "text": [
            "Train on 18601 samples, validate on 2067 samples\n",
            "Epoch 1/10\n",
            "18601/18601 [==============================] - 13s 694us/step - loss: 6.4164 - accuracy: 0.5222 - val_loss: 0.6769 - val_accuracy: 0.5781\n",
            "Epoch 2/10\n",
            "18601/18601 [==============================] - 6s 345us/step - loss: 0.6616 - accuracy: 0.5946 - val_loss: 0.6596 - val_accuracy: 0.6004\n",
            "Epoch 3/10\n",
            "18601/18601 [==============================] - 6s 347us/step - loss: 0.6352 - accuracy: 0.6191 - val_loss: 0.6482 - val_accuracy: 0.6105\n",
            "Epoch 4/10\n",
            "18601/18601 [==============================] - 6s 347us/step - loss: 0.6089 - accuracy: 0.6374 - val_loss: 0.6689 - val_accuracy: 0.6139\n",
            "Epoch 5/10\n",
            "18601/18601 [==============================] - 6s 347us/step - loss: 0.5255 - accuracy: 0.7146 - val_loss: 0.4042 - val_accuracy: 0.8403\n",
            "Epoch 6/10\n",
            "18601/18601 [==============================] - 6s 347us/step - loss: 0.2552 - accuracy: 0.9061 - val_loss: 0.2661 - val_accuracy: 0.8979\n",
            "Epoch 7/10\n",
            "18601/18601 [==============================] - 6s 349us/step - loss: 0.2040 - accuracy: 0.9245 - val_loss: 0.2417 - val_accuracy: 0.9182\n",
            "Epoch 8/10\n",
            "18601/18601 [==============================] - 6s 346us/step - loss: 0.1560 - accuracy: 0.9426 - val_loss: 0.2347 - val_accuracy: 0.9197\n",
            "Epoch 9/10\n",
            "18601/18601 [==============================] - 6s 344us/step - loss: 0.1281 - accuracy: 0.9505 - val_loss: 0.2575 - val_accuracy: 0.9173\n",
            "Epoch 10/10\n",
            "18601/18601 [==============================] - 6s 345us/step - loss: 0.1113 - accuracy: 0.9542 - val_loss: 0.2553 - val_accuracy: 0.9100\n"
          ],
          "name": "stdout"
        }
      ]
    },
    {
      "cell_type": "code",
      "metadata": {
        "id": "VDG1P7FAkf2X",
        "colab_type": "code",
        "colab": {
          "base_uri": "https://localhost:8080/",
          "height": 51
        },
        "outputId": "60eedfa5-898d-4998-cbe3-c010bab45ece"
      },
      "source": [
        "cnn.evaluate(X_test, y_test)"
      ],
      "execution_count": 21,
      "outputs": [
        {
          "output_type": "stream",
          "text": [
            "6890/6890 [==============================] - 1s 216us/step\n"
          ],
          "name": "stdout"
        },
        {
          "output_type": "execute_result",
          "data": {
            "text/plain": [
              "[0.2632937564991728, 0.9214804172515869]"
            ]
          },
          "metadata": {
            "tags": []
          },
          "execution_count": 21
        }
      ]
    },
    {
      "cell_type": "code",
      "metadata": {
        "id": "q0Fy5a0aknOu",
        "colab_type": "code",
        "colab": {}
      },
      "source": [
        "def plot_history(logger, title): #function for plotting learning curve\n",
        "    df = pd.DataFrame(logger.history)\n",
        "    df[['accuracy', 'val_accuracy']].plot()\n",
        "    plt.title(title)\n",
        "    plt.ylabel(\"accuracy\")\n",
        "    plt.xlabel(\"epochs\")\n",
        "    #df[['loss', 'val_loss']].plot(linestyle='--', ax=plt.twinx())\n",
        "    #plt.ylabel(\"loss\")"
      ],
      "execution_count": 0,
      "outputs": []
    },
    {
      "cell_type": "code",
      "metadata": {
        "id": "N0q7PF4Yknzx",
        "colab_type": "code",
        "colab": {
          "base_uri": "https://localhost:8080/",
          "height": 295
        },
        "outputId": "3e57c608-af7f-4d52-c435-9061c75967f8"
      },
      "source": [
        "plot_history(history_cnn, \"Learning Curve CNN\")"
      ],
      "execution_count": 23,
      "outputs": [
        {
          "output_type": "display_data",
          "data": {
            "image/png": "[encoded data removed]",
            "text/plain": [
              "<Figure size 432x288 with 1 Axes>"
            ]
          },
          "metadata": {
            "tags": [],
            "needs_background": "light"
          }
        }
      ]
    },
    {
      "cell_type": "markdown",
      "metadata": {
        "id": "XIGjqFV0kt5h",
        "colab_type": "text"
      },
      "source": [
        "Using batch normalization"
      ]
    },
    {
      "cell_type": "code",
      "metadata": {
        "id": "o8YUMVtNkpkd",
        "colab_type": "code",
        "colab": {}
      },
      "source": [
        "from keras.layers import BatchNormalization #original model + batch normalization \n",
        "num_classes = 2\n",
        "cnn_nom = Sequential()\n",
        "cnn_nom.add(Conv2D(32, kernel_size=(3, 3),\n",
        "                 activation='relu',\n",
        "                 input_shape=input_shape))\n",
        "cnn_nom.add(BatchNormalization())\n",
        "cnn_nom.add(MaxPooling2D(pool_size=(2, 2)))\n",
        "cnn_nom.add(Conv2D(32, (3, 3), activation='relu'))\n",
        "cnn_nom.add(BatchNormalization())\n",
        "cnn_nom.add(MaxPooling2D(pool_size=(2, 2)))\n",
        "cnn_nom.add(Flatten())\n",
        "cnn_nom.add(Dense(64, activation='relu'))\n",
        "cnn_nom.add(Dense(num_classes, activation='softmax'))"
      ],
      "execution_count": 0,
      "outputs": []
    },
    {
      "cell_type": "code",
      "metadata": {
        "id": "7xyzpV5Ckxzv",
        "colab_type": "code",
        "colab": {}
      },
      "source": [
        "cnn_nom.compile(\"adam\", \"categorical_crossentropy\", metrics=['accuracy'])"
      ],
      "execution_count": 0,
      "outputs": []
    },
    {
      "cell_type": "code",
      "metadata": {
        "id": "yd3iewTqkz78",
        "colab_type": "code",
        "colab": {
          "base_uri": "https://localhost:8080/",
          "height": 374
        },
        "outputId": "f6eb9b05-1019-4bbf-8d3c-6e0f5cfa8ab6"
      },
      "source": [
        "history_cnn_nom = cnn_nom.fit(X_train, y_train,\n",
        "                      batch_size=128, epochs=10, verbose=1, validation_split=.1)"
      ],
      "execution_count": 26,
      "outputs": [
        {
          "output_type": "stream",
          "text": [
            "Train on 18601 samples, validate on 2067 samples\n",
            "Epoch 1/10\n",
            "18601/18601 [==============================] - 20s 1ms/step - loss: 0.7223 - accuracy: 0.6766 - val_loss: 0.5513 - val_accuracy: 0.7615\n",
            "Epoch 2/10\n",
            "18601/18601 [==============================] - 19s 1ms/step - loss: 0.3199 - accuracy: 0.8823 - val_loss: 0.3344 - val_accuracy: 0.8670\n",
            "Epoch 3/10\n",
            "18601/18601 [==============================] - 19s 1ms/step - loss: 0.2451 - accuracy: 0.9117 - val_loss: 0.3612 - val_accuracy: 0.8495\n",
            "Epoch 4/10\n",
            "18601/18601 [==============================] - 19s 1ms/step - loss: 0.2059 - accuracy: 0.9246 - val_loss: 0.3377 - val_accuracy: 0.8592\n",
            "Epoch 5/10\n",
            "18601/18601 [==============================] - 19s 1ms/step - loss: 0.1894 - accuracy: 0.9306 - val_loss: 0.2431 - val_accuracy: 0.9071\n",
            "Epoch 6/10\n",
            "18601/18601 [==============================] - 19s 1ms/step - loss: 0.1603 - accuracy: 0.9420 - val_loss: 0.2485 - val_accuracy: 0.9192\n",
            "Epoch 7/10\n",
            "18601/18601 [==============================] - 19s 1ms/step - loss: 0.1290 - accuracy: 0.9530 - val_loss: 0.2510 - val_accuracy: 0.9178\n",
            "Epoch 8/10\n",
            "18601/18601 [==============================] - 19s 1ms/step - loss: 0.1277 - accuracy: 0.9542 - val_loss: 0.2865 - val_accuracy: 0.9018\n",
            "Epoch 9/10\n",
            "18601/18601 [==============================] - 19s 1ms/step - loss: 0.0987 - accuracy: 0.9653 - val_loss: 0.3813 - val_accuracy: 0.9042\n",
            "Epoch 10/10\n",
            "18601/18601 [==============================] - 19s 1ms/step - loss: 0.0728 - accuracy: 0.9752 - val_loss: 0.3180 - val_accuracy: 0.9192\n"
          ],
          "name": "stdout"
        }
      ]
    },
    {
      "cell_type": "code",
      "metadata": {
        "id": "5ptshaqlk1tB",
        "colab_type": "code",
        "colab": {
          "base_uri": "https://localhost:8080/",
          "height": 51
        },
        "outputId": "2dc07731-6aa8-49b3-c42c-c54625d8ba97"
      },
      "source": [
        "cnn_nom.evaluate(X_test, y_test)"
      ],
      "execution_count": 27,
      "outputs": [
        {
          "output_type": "stream",
          "text": [
            "6890/6890 [==============================] - 2s 360us/step\n"
          ],
          "name": "stdout"
        },
        {
          "output_type": "execute_result",
          "data": {
            "text/plain": [
              "[0.29773467659344693, 0.9217706918716431]"
            ]
          },
          "metadata": {
            "tags": []
          },
          "execution_count": 27
        }
      ]
    },
    {
      "cell_type": "code",
      "metadata": {
        "id": "gcXJnCb9lGVj",
        "colab_type": "code",
        "colab": {}
      },
      "source": [
        "def plot_history(logger, title): #function for plotting learning curve\n",
        "    df = pd.DataFrame(logger.history)\n",
        "    df[['accuracy', 'val_accuracy']].plot()\n",
        "    plt.title(title)\n",
        "    plt.ylabel(\"accuracy\")\n",
        "    plt.xlabel(\"epochs\")\n",
        "    df[['loss', 'val_loss']].plot(linestyle='--', ax=plt.twinx())\n",
        "    plt.ylabel(\"loss\")"
      ],
      "execution_count": 0,
      "outputs": []
    },
    {
      "cell_type": "code",
      "metadata": {
        "id": "2XQfK0VClG32",
        "colab_type": "code",
        "colab": {
          "base_uri": "https://localhost:8080/",
          "height": 295
        },
        "outputId": "48746a67-2ef9-4f8d-cb0c-d92084b3c0df"
      },
      "source": [
        "plot_history(history_cnn_nom, \"Learning Curve CNN with BN\")"
      ],
      "execution_count": 29,
      "outputs": [
        {
          "output_type": "display_data",
          "data": {
            "image/png": "[encoded data removed]",
            "text/plain": [
              "<Figure size 432x288 with 2 Axes>"
            ]
          },
          "metadata": {
            "tags": [],
            "needs_background": "light"
          }
        }
      ]
    },
    {
      "cell_type": "markdown",
      "metadata": {
        "id": "3dr1FXEIlLvE",
        "colab_type": "text"
      },
      "source": [
        "Batch normalisation definitely improves the model, allowing for faster learning rate and better accuracies, however the validation was very unstable."
      ]
    },
    {
      "cell_type": "markdown",
      "metadata": {
        "id": "b8JJOA_8lNAC",
        "colab_type": "text"
      },
      "source": [
        "3.2 Augment the data using rotations, mirroring and possibly other transformations. How much can you improve your original model by data augmentation?"
      ]
    },
    {
      "cell_type": "code",
      "metadata": {
        "id": "mqSPWBaUlMGJ",
        "colab_type": "code",
        "colab": {}
      },
      "source": [
        "datagen = ImageDataGenerator( \n",
        "    featurewise_center=True, featurewise_std_normalization=True, \n",
        "    rotation_range=20, width_shift_range=0.2, height_shift_range=0.2, \n",
        "    horizontal_flip=True, validation_split = .1)\n",
        "# compute quantities required for featurewise normalization\n",
        "# (std, mean, and principal components if ZCA whitening is applied)\n",
        "datagen.fit(X_train)\n",
        "# fits the model on batches with real-time data augmentation:"
      ],
      "execution_count": 0,
      "outputs": []
    },
    {
      "cell_type": "code",
      "metadata": {
        "id": "MAz-oS6_lUrz",
        "colab_type": "code",
        "colab": {}
      },
      "source": [
        "X_train2, X_val, y_train2, y_val = train_test_split(X_train, y_train, test_size = 0.1) #making a validation set \n",
        "\n",
        "train_generator = datagen.flow(X_train2, y_train2, batch_size=128)\n",
        "val_generator = datagen.flow(X_val, y_val, batch_size = 128) "
      ],
      "execution_count": 0,
      "outputs": []
    },
    {
      "cell_type": "code",
      "metadata": {
        "id": "J1k6ZCH6lZT8",
        "colab_type": "code",
        "colab": {
          "base_uri": "https://localhost:8080/",
          "height": 357
        },
        "outputId": "584e6196-19bc-4e7e-f7e7-fdfc6a827d54"
      },
      "source": [
        "history_cnn_img2 = cnn_nom.fit_generator(train_generator, validation_data = val_generator, #added our own validation \n",
        "                    steps_per_epoch=len(X_train) / 128, epochs=10) "
      ],
      "execution_count": 32,
      "outputs": [
        {
          "output_type": "stream",
          "text": [
            "Epoch 1/10\n",
            "162/161 [==============================] - 55s 339ms/step - loss: 0.5533 - accuracy: 0.8172 - val_loss: 0.9653 - val_accuracy: 0.4925\n",
            "Epoch 2/10\n",
            "162/161 [==============================] - 53s 327ms/step - loss: 0.3250 - accuracy: 0.8726 - val_loss: 26.4562 - val_accuracy: 0.5070\n",
            "Epoch 3/10\n",
            "162/161 [==============================] - 53s 330ms/step - loss: 0.3045 - accuracy: 0.8829 - val_loss: 4.5286 - val_accuracy: 0.5985\n",
            "Epoch 4/10\n",
            "162/161 [==============================] - 53s 329ms/step - loss: 0.2782 - accuracy: 0.8938 - val_loss: 2.3857 - val_accuracy: 0.6497\n",
            "Epoch 5/10\n",
            "162/161 [==============================] - 53s 327ms/step - loss: 0.2741 - accuracy: 0.8987 - val_loss: 2.3741 - val_accuracy: 0.7334\n",
            "Epoch 6/10\n",
            "162/161 [==============================] - 53s 326ms/step - loss: 0.2595 - accuracy: 0.9041 - val_loss: 0.7520 - val_accuracy: 0.5254\n",
            "Epoch 7/10\n",
            "162/161 [==============================] - 54s 332ms/step - loss: 0.2439 - accuracy: 0.9135 - val_loss: 0.0928 - val_accuracy: 0.8931\n",
            "Epoch 8/10\n",
            "162/161 [==============================] - 55s 338ms/step - loss: 0.2353 - accuracy: 0.9161 - val_loss: 0.3545 - val_accuracy: 0.9129\n",
            "Epoch 9/10\n",
            "162/161 [==============================] - 55s 336ms/step - loss: 0.2336 - accuracy: 0.9148 - val_loss: 0.2600 - val_accuracy: 0.9115\n",
            "Epoch 10/10\n",
            "162/161 [==============================] - 57s 351ms/step - loss: 0.2163 - accuracy: 0.9212 - val_loss: 0.5679 - val_accuracy: 0.9202\n"
          ],
          "name": "stdout"
        }
      ]
    },
    {
      "cell_type": "code",
      "metadata": {
        "id": "q5hIta-glaVX",
        "colab_type": "code",
        "colab": {
          "base_uri": "https://localhost:8080/",
          "height": 295
        },
        "outputId": "7b96142c-7b17-4ee1-d4a0-f9a6eed13110"
      },
      "source": [
        "plot_history(history_cnn_img2, \"Original model with Data Augmentation \") "
      ],
      "execution_count": 33,
      "outputs": [
        {
          "output_type": "display_data",
          "data": {
            "image/png": "[encoded data removed]",
            "text/plain": [
              "<Figure size 432x288 with 2 Axes>"
            ]
          },
          "metadata": {
            "tags": [],
            "needs_background": "light"
          }
        }
      ]
    },
    {
      "cell_type": "markdown",
      "metadata": {
        "id": "mrwOBqETqpBZ",
        "colab_type": "text"
      },
      "source": [
        "From the graph we can see that data augmentation does improve the results by making the validation accuracy more stable, even though the validation loss is still pretty unstable. The last epoch of the validation accuracy did improve by 0.01."
      ]
    },
    {
      "cell_type": "markdown",
      "metadata": {
        "id": "O5i9h9uaqtsL",
        "colab_type": "text"
      },
      "source": [
        "3.3 Build a deeper model using residual connections. Show that you can build a deep model that would not be able to learn if you remove the residual connections (i.e. compare a deep model with and without residual connections while the rest of the architecture is constant). Feel free to reuse existing architectures from the literature or use them as inspiration for your own. You can find commonly used architectures here: https://keras.io/applications/ However, the point of the exercise is to learn the weights from scratch, so please do not reuse the weights shipped with these applications."
      ]
    },
    {
      "cell_type": "code",
      "metadata": {
        "id": "m_UojbpnqwYQ",
        "colab_type": "code",
        "colab": {}
      },
      "source": [
        "from keras.layers import Input, Conv2D, MaxPooling2D, Flatten \n",
        "from keras.models import Model\n",
        "num_classes = 2\n",
        "inputs = Input(shape=(img_rows, img_cols, 3))\n",
        "conv1_1 = Conv2D(32, (3, 3), activation='relu',padding='same')(inputs) \n",
        "conv1_2 = Conv2D(32, (3, 3), activation='relu',padding='same')(conv1_1) \n",
        "maxpool1 = MaxPooling2D(pool_size=(2, 2))(conv1_2)\n",
        "conv2_1 = Conv2D(32, (3, 3), activation='relu', padding='same')(maxpool1)\n",
        "conv2_2 = Conv2D(32, (3, 3), activation='relu', padding='same')(conv2_1)\n",
        "# add skip\n",
        "skip2 = keras.layers.add([maxpool1, conv2_2])\n",
        "maxpool2 = MaxPooling2D(pool_size=(2, 2))(skip2)\n",
        "flat = Flatten()(maxpool2)\n",
        "dense = Dense(64, activation='relu')(flat)\n",
        "predictions = Dense(num_classes, activation='softmax')(dense)\n"
      ],
      "execution_count": 0,
      "outputs": []
    },
    {
      "cell_type": "code",
      "metadata": {
        "id": "SF1N3Qz1q447",
        "colab_type": "code",
        "colab": {}
      },
      "source": [
        "cnn_skipmodel = Model(inputs=inputs, outputs=predictions)\n",
        "cnn_skipmodel.compile(optimizer='rmsprop',\n",
        "              loss='categorical_crossentropy',\n",
        "              metrics=['accuracy'])"
      ],
      "execution_count": 0,
      "outputs": []
    },
    {
      "cell_type": "code",
      "metadata": {
        "id": "1gZmMWvfzQwy",
        "colab_type": "code",
        "colab": {}
      },
      "source": [
        "X_train3, X_val3, y_train3, y_val3 = train_test_split(X_train, y_train, test_size = 0.2)"
      ],
      "execution_count": 0,
      "outputs": []
    },
    {
      "cell_type": "code",
      "metadata": {
        "id": "tpZLOw4prDbH",
        "colab_type": "code",
        "colab": {
          "base_uri": "https://localhost:8080/",
          "height": 374
        },
        "outputId": "0a412d24-251f-4a23-d7b2-1ca0381e57a1"
      },
      "source": [
        "history_cnn_skip = cnn_skipmodel.fit(X_train, y_train,batch_size=128, epochs=10, verbose=1,validation_split=.1)\n"
      ],
      "execution_count": 51,
      "outputs": [
        {
          "output_type": "stream",
          "text": [
            "Train on 18601 samples, validate on 2067 samples\n",
            "Epoch 1/10\n",
            "18601/18601 [==============================] - 15s 790us/step - loss: 0.0274 - accuracy: 0.9931 - val_loss: 0.0626 - val_accuracy: 0.9792\n",
            "Epoch 2/10\n",
            "18601/18601 [==============================] - 14s 771us/step - loss: 0.0283 - accuracy: 0.9917 - val_loss: 0.0265 - val_accuracy: 0.9937\n",
            "Epoch 3/10\n",
            "18601/18601 [==============================] - 14s 770us/step - loss: 0.0140 - accuracy: 0.9962 - val_loss: 0.0205 - val_accuracy: 0.9932\n",
            "Epoch 4/10\n",
            "18601/18601 [==============================] - 14s 771us/step - loss: 0.0015 - accuracy: 0.9996 - val_loss: 0.0386 - val_accuracy: 0.9942\n",
            "Epoch 5/10\n",
            "18601/18601 [==============================] - 14s 773us/step - loss: 0.0013 - accuracy: 0.9995 - val_loss: 0.0233 - val_accuracy: 0.9942\n",
            "Epoch 6/10\n",
            "18601/18601 [==============================] - 14s 772us/step - loss: 0.0051 - accuracy: 0.9987 - val_loss: 0.0408 - val_accuracy: 0.9937\n",
            "Epoch 7/10\n",
            "18601/18601 [==============================] - 14s 772us/step - loss: 5.4027e-04 - accuracy: 0.9998 - val_loss: 0.0294 - val_accuracy: 0.9961\n",
            "Epoch 8/10\n",
            "18601/18601 [==============================] - 14s 772us/step - loss: 1.6232e-04 - accuracy: 0.9999 - val_loss: 0.0283 - val_accuracy: 0.9952\n",
            "Epoch 9/10\n",
            "18601/18601 [==============================] - 14s 773us/step - loss: 8.0703e-05 - accuracy: 0.9999 - val_loss: 0.0284 - val_accuracy: 0.9947\n",
            "Epoch 10/10\n",
            "18601/18601 [==============================] - 14s 772us/step - loss: 7.0528e-05 - accuracy: 0.9999 - val_loss: 0.0290 - val_accuracy: 0.9947\n"
          ],
          "name": "stdout"
        }
      ]
    },
    {
      "cell_type": "code",
      "metadata": {
        "id": "FUK87CXArFJo",
        "colab_type": "code",
        "colab": {
          "base_uri": "https://localhost:8080/",
          "height": 51
        },
        "outputId": "14b64acf-f652-4d23-d7fc-902dd649a380"
      },
      "source": [
        "cnn_skipmodel.evaluate(X_test, y_test)"
      ],
      "execution_count": 52,
      "outputs": [
        {
          "output_type": "stream",
          "text": [
            "6890/6890 [==============================] - 3s 369us/step\n"
          ],
          "name": "stdout"
        },
        {
          "output_type": "execute_result",
          "data": {
            "text/plain": [
              "[0.7574406550813668, 0.9377358555793762]"
            ]
          },
          "metadata": {
            "tags": []
          },
          "execution_count": 52
        }
      ]
    },
    {
      "cell_type": "code",
      "metadata": {
        "id": "7TwCmCjBvtn7",
        "colab_type": "code",
        "colab": {
          "base_uri": "https://localhost:8080/",
          "height": 295
        },
        "outputId": "729031ba-9db8-4848-cb15-3f6545906ea6"
      },
      "source": [
        "plot_history(history_cnn_skip, \"Original model with Data Augmentation \") "
      ],
      "execution_count": 54,
      "outputs": [
        {
          "output_type": "display_data",
          "data": {
            "image/png": "[encoded data removed]",
            "text/plain": [
              "<Figure size 432x288 with 2 Axes>"
            ]
          },
          "metadata": {
            "tags": [],
            "needs_background": "light"
          }
        }
      ]
    },
    {
      "cell_type": "markdown",
      "metadata": {
        "id": "qUL7ukyNwZJH",
        "colab_type": "text"
      },
      "source": [
        "By using residual connections, the val_accuracy has increased steadily. The validation loss has some small fluctuation around 0.03.\n",
        "Generally by adding residual connections, the model performance has increased greatly."
      ]
    },
    {
      "cell_type": "code",
      "metadata": {
        "id": "X3EIhpGX1erp",
        "colab_type": "code",
        "colab": {}
      },
      "source": [
        ""
      ],
      "execution_count": 0,
      "outputs": []
    }
  ]
}