{
 "cells": [
  {
   "cell_type": "code",
   "execution_count": 0,
   "metadata": {
    "colab": {
     "base_uri": "https://localhost:8080/",
     "height": 34
    },
    "colab_type": "code",
    "id": "FB7XtUW01j-5",
    "outputId": "931716ec-d77f-46f8-f23a-377659b86182"
   },
   "outputs": [
    {
     "name": "stderr",
     "output_type": "stream",
     "text": [
      "Using TensorFlow backend.\n"
     ]
    }
   ],
   "source": [
    "from keras.datasets import fashion_mnist, mnist\n",
    "from sklearn import datasets\n",
    "import matplotlib.pyplot as plt\n",
    "from keras.models import Sequential\n",
    "from keras.layers import Dense, Activation\n",
    "from sklearn.model_selection import train_test_split\n",
    "from keras import regularizers\n",
    "from keras.wrappers.scikit_learn import KerasClassifier, KerasRegressor\n",
    "from sklearn.model_selection import GridSearchCV\n",
    "import pandas as pd \n",
    "import numpy as np\n",
    "import keras"
   ]
  },
  {
   "cell_type": "markdown",
   "metadata": {
    "colab_type": "text",
    "id": "IsbzEf199qxC"
   },
   "source": [
    "#Task 2 [35 Points]\n",
    "Train a multilayer perceptron (fully connected) on the Fashion MNIST dataset using the\n",
    "traditional train/test split as given by fashion_mnist.load_data in keras. Use a separate 10000\n",
    "samples (from the training set) for model selection and to compute learning curves (accuracy\n",
    "vs epochs, not accuracy vs n_samples). Compare a “vanilla” model with a model using\n",
    "drop-out and evaluate if using drop-out allows you to learn a bigger network. Then, compare to\n",
    "a model using batch normalization. Visualize learning curves for all models."
   ]
  },
  {
   "cell_type": "code",
   "execution_count": 0,
   "metadata": {
    "colab": {
     "base_uri": "https://localhost:8080/",
     "height": 153
    },
    "colab_type": "code",
    "id": "_MoBll2e9pyp",
    "outputId": "a868a1cc-cb59-4f2b-f557-fd4ab188666d"
   },
   "outputs": [
    {
     "name": "stdout",
     "output_type": "stream",
     "text": [
      "Downloading data from http://fashion-mnist.s3-website.eu-central-1.amazonaws.com/train-labels-idx1-ubyte.gz\n",
      "32768/29515 [=================================] - 0s 9us/step\n",
      "Downloading data from http://fashion-mnist.s3-website.eu-central-1.amazonaws.com/train-images-idx3-ubyte.gz\n",
      "26427392/26421880 [==============================] - 5s 0us/step\n",
      "Downloading data from http://fashion-mnist.s3-website.eu-central-1.amazonaws.com/t10k-labels-idx1-ubyte.gz\n",
      "8192/5148 [===============================================] - 0s 0us/step\n",
      "Downloading data from http://fashion-mnist.s3-website.eu-central-1.amazonaws.com/t10k-images-idx3-ubyte.gz\n",
      "4423680/4422102 [==============================] - 2s 1us/step\n"
     ]
    }
   ],
   "source": [
    "#checked that fashion mnist has same image size and structure of mnist \n",
    "\n",
    "(X_train, y_train), (X_test, y_test) = fashion_mnist.load_data() #first split\n",
    "X_train = X_train.reshape(60000, 784) #doing the formatting as in the lecture\n",
    "X_test = X_test.reshape(10000, 784)\n",
    "X_train = X_train.astype('float32')\n",
    "X_test = X_test.astype('float32')\n",
    "#X_train, X_val, y_train, y_val = train_test_split(X_train_val, y_train_val, test_size = 10000, random_state = 0, stratify = y_train_val)\n",
    "#getting a validation set of 10000 - we use the validation splitting below instead \n",
    "\n",
    "#scaling of data \n",
    "X_train /= 255\n",
    "X_test /= 255\n",
    "\n",
    "num_classes = 10 #checked that fashion mnist has 10 classes \n",
    "# convert class vectors to binary class matrices\n",
    "y_train = keras.utils.to_categorical(y_train, num_classes)\n",
    "y_test = keras.utils.to_categorical(y_test, num_classes)"
   ]
  },
  {
   "cell_type": "code",
   "execution_count": 0,
   "metadata": {
    "colab": {
     "base_uri": "https://localhost:8080/",
     "height": 34
    },
    "colab_type": "code",
    "id": "QJt7wLlT-1yZ",
    "outputId": "98833ed3-0f7b-4daa-844b-001df7a7ae05"
   },
   "outputs": [
    {
     "data": {
      "text/plain": [
       "(60000, 10)"
      ]
     },
     "execution_count": 4,
     "metadata": {
      "tags": []
     },
     "output_type": "execute_result"
    }
   ],
   "source": [
    "y_train.shape "
   ]
  },
  {
   "cell_type": "markdown",
   "metadata": {
    "colab_type": "text",
    "id": "kkx5_7z3LdpF"
   },
   "source": [
    "Interesting link about how to choose the number of neurons https://stats.stackexchange.com/questions/181/how-to-choose-the-number-of-hidden-layers-and-nodes-in-a-feedforward-neural-netw"
   ]
  },
  {
   "cell_type": "code",
   "execution_count": 0,
   "metadata": {
    "colab": {
     "base_uri": "https://localhost:8080/",
     "height": 1000
    },
    "colab_type": "code",
    "id": "2Z2JMt7zCOEE",
    "outputId": "03709046-c163-48a4-b1c5-d947b46bb481"
   },
   "outputs": [
    {
     "name": "stdout",
     "output_type": "stream",
     "text": [
      "Train on 50000 samples, validate on 10000 samples\n",
      "Epoch 1/50\n",
      " - 3s - loss: 0.6926 - accuracy: 0.7734 - val_loss: 0.5084 - val_accuracy: 0.8268\n",
      "Epoch 2/50\n",
      " - 1s - loss: 0.4658 - accuracy: 0.8408 - val_loss: 0.4519 - val_accuracy: 0.8441\n",
      "Epoch 3/50\n",
      " - 1s - loss: 0.4260 - accuracy: 0.8533 - val_loss: 0.4338 - val_accuracy: 0.8505\n",
      "Epoch 4/50\n",
      " - 1s - loss: 0.4029 - accuracy: 0.8595 - val_loss: 0.4181 - val_accuracy: 0.8545\n",
      "Epoch 5/50\n",
      " - 1s - loss: 0.3876 - accuracy: 0.8641 - val_loss: 0.4078 - val_accuracy: 0.8561\n",
      "Epoch 6/50\n",
      " - 1s - loss: 0.3726 - accuracy: 0.8694 - val_loss: 0.3924 - val_accuracy: 0.8618\n",
      "Epoch 7/50\n",
      " - 1s - loss: 0.3595 - accuracy: 0.8732 - val_loss: 0.3956 - val_accuracy: 0.8624\n",
      "Epoch 8/50\n",
      " - 1s - loss: 0.3504 - accuracy: 0.8774 - val_loss: 0.3765 - val_accuracy: 0.8700\n",
      "Epoch 9/50\n",
      " - 1s - loss: 0.3423 - accuracy: 0.8799 - val_loss: 0.3903 - val_accuracy: 0.8600\n",
      "Epoch 10/50\n",
      " - 1s - loss: 0.3350 - accuracy: 0.8813 - val_loss: 0.3699 - val_accuracy: 0.8678\n",
      "Epoch 11/50\n",
      " - 1s - loss: 0.3271 - accuracy: 0.8842 - val_loss: 0.3652 - val_accuracy: 0.8708\n",
      "Epoch 12/50\n",
      " - 1s - loss: 0.3221 - accuracy: 0.8866 - val_loss: 0.3699 - val_accuracy: 0.8692\n",
      "Epoch 13/50\n",
      " - 1s - loss: 0.3126 - accuracy: 0.8883 - val_loss: 0.3661 - val_accuracy: 0.8714\n",
      "Epoch 14/50\n",
      " - 1s - loss: 0.3094 - accuracy: 0.8910 - val_loss: 0.3578 - val_accuracy: 0.8730\n",
      "Epoch 15/50\n",
      " - 1s - loss: 0.3044 - accuracy: 0.8913 - val_loss: 0.3628 - val_accuracy: 0.8743\n",
      "Epoch 16/50\n",
      " - 1s - loss: 0.2981 - accuracy: 0.8944 - val_loss: 0.3621 - val_accuracy: 0.8710\n",
      "Epoch 17/50\n",
      " - 1s - loss: 0.2962 - accuracy: 0.8933 - val_loss: 0.3491 - val_accuracy: 0.8757\n",
      "Epoch 18/50\n",
      " - 1s - loss: 0.2911 - accuracy: 0.8965 - val_loss: 0.3564 - val_accuracy: 0.8725\n",
      "Epoch 19/50\n",
      " - 1s - loss: 0.2884 - accuracy: 0.8970 - val_loss: 0.3483 - val_accuracy: 0.8752\n",
      "Epoch 20/50\n",
      " - 1s - loss: 0.2826 - accuracy: 0.8995 - val_loss: 0.3488 - val_accuracy: 0.8782\n",
      "Epoch 21/50\n",
      " - 1s - loss: 0.2782 - accuracy: 0.9010 - val_loss: 0.3451 - val_accuracy: 0.8779\n",
      "Epoch 22/50\n",
      " - 1s - loss: 0.2755 - accuracy: 0.9006 - val_loss: 0.3639 - val_accuracy: 0.8714\n",
      "Epoch 23/50\n",
      " - 1s - loss: 0.2731 - accuracy: 0.9015 - val_loss: 0.3492 - val_accuracy: 0.8752\n",
      "Epoch 24/50\n",
      " - 1s - loss: 0.2691 - accuracy: 0.9033 - val_loss: 0.3482 - val_accuracy: 0.8756\n",
      "Epoch 25/50\n",
      " - 1s - loss: 0.2698 - accuracy: 0.9035 - val_loss: 0.3496 - val_accuracy: 0.8767\n",
      "Epoch 26/50\n",
      " - 1s - loss: 0.2643 - accuracy: 0.9055 - val_loss: 0.3545 - val_accuracy: 0.8767\n",
      "Epoch 27/50\n",
      " - 1s - loss: 0.2613 - accuracy: 0.9073 - val_loss: 0.3525 - val_accuracy: 0.8743\n",
      "Epoch 28/50\n",
      " - 1s - loss: 0.2621 - accuracy: 0.9051 - val_loss: 0.3449 - val_accuracy: 0.8789\n",
      "Epoch 29/50\n",
      " - 1s - loss: 0.2557 - accuracy: 0.9082 - val_loss: 0.3536 - val_accuracy: 0.8790\n",
      "Epoch 30/50\n",
      " - 1s - loss: 0.2549 - accuracy: 0.9088 - val_loss: 0.3517 - val_accuracy: 0.8767\n",
      "Epoch 31/50\n",
      " - 1s - loss: 0.2518 - accuracy: 0.9094 - val_loss: 0.3635 - val_accuracy: 0.8731\n",
      "Epoch 32/50\n",
      " - 1s - loss: 0.2483 - accuracy: 0.9105 - val_loss: 0.3552 - val_accuracy: 0.8780\n",
      "Epoch 33/50\n",
      " - 1s - loss: 0.2459 - accuracy: 0.9114 - val_loss: 0.3462 - val_accuracy: 0.8784\n",
      "Epoch 34/50\n",
      " - 1s - loss: 0.2445 - accuracy: 0.9112 - val_loss: 0.3581 - val_accuracy: 0.8752\n",
      "Epoch 35/50\n",
      " - 1s - loss: 0.2420 - accuracy: 0.9121 - val_loss: 0.3631 - val_accuracy: 0.8756\n",
      "Epoch 36/50\n",
      " - 1s - loss: 0.2385 - accuracy: 0.9144 - val_loss: 0.3563 - val_accuracy: 0.8786\n",
      "Epoch 37/50\n",
      " - 1s - loss: 0.2362 - accuracy: 0.9150 - val_loss: 0.3645 - val_accuracy: 0.8758\n",
      "Epoch 38/50\n",
      " - 1s - loss: 0.2342 - accuracy: 0.9163 - val_loss: 0.3617 - val_accuracy: 0.8759\n",
      "Epoch 39/50\n",
      " - 1s - loss: 0.2332 - accuracy: 0.9166 - val_loss: 0.3529 - val_accuracy: 0.8805\n",
      "Epoch 40/50\n",
      " - 1s - loss: 0.2303 - accuracy: 0.9179 - val_loss: 0.3741 - val_accuracy: 0.8758\n",
      "Epoch 41/50\n",
      " - 1s - loss: 0.2285 - accuracy: 0.9175 - val_loss: 0.3838 - val_accuracy: 0.8681\n",
      "Epoch 42/50\n",
      " - 1s - loss: 0.2273 - accuracy: 0.9186 - val_loss: 0.3642 - val_accuracy: 0.8781\n",
      "Epoch 43/50\n",
      " - 1s - loss: 0.2258 - accuracy: 0.9188 - val_loss: 0.3731 - val_accuracy: 0.8733\n",
      "Epoch 44/50\n",
      " - 1s - loss: 0.2232 - accuracy: 0.9191 - val_loss: 0.3619 - val_accuracy: 0.8801\n",
      "Epoch 45/50\n",
      " - 1s - loss: 0.2224 - accuracy: 0.9207 - val_loss: 0.3742 - val_accuracy: 0.8761\n",
      "Epoch 46/50\n",
      " - 1s - loss: 0.2206 - accuracy: 0.9203 - val_loss: 0.3735 - val_accuracy: 0.8754\n",
      "Epoch 47/50\n",
      " - 1s - loss: 0.2159 - accuracy: 0.9220 - val_loss: 0.3637 - val_accuracy: 0.8777\n",
      "Epoch 48/50\n",
      " - 1s - loss: 0.2174 - accuracy: 0.9219 - val_loss: 0.3639 - val_accuracy: 0.8810\n",
      "Epoch 49/50\n",
      " - 1s - loss: 0.2135 - accuracy: 0.9235 - val_loss: 0.3765 - val_accuracy: 0.8755\n",
      "Epoch 50/50\n",
      " - 1s - loss: 0.2133 - accuracy: 0.9227 - val_loss: 0.3656 - val_accuracy: 0.8798\n",
      "10000/10000 [==============================] - 0s 45us/step\n",
      "Validation loss: 0.388\n",
      "Validation Accuracy: 0.874\n"
     ]
    }
   ],
   "source": [
    "#building a vanilla model     \n",
    "\n",
    "model = Sequential([\n",
    "    Dense(38, input_shape=(784,), activation='relu'), \n",
    "    Dense(10, activation='softmax')])\n",
    "\n",
    "model.compile(\"adam\", \"categorical_crossentropy\", metrics=['accuracy'])\n",
    "history_callback = model.fit(X_train, y_train, batch_size=128, epochs=50, verbose=2, validation_split = 1/6) #using 10000 for validation \n",
    "score = model.evaluate(X_test, y_test)\n",
    "print(\"Validation loss: {:.3f}\".format(score[0])) \n",
    "print(\"Validation Accuracy: {:.3f}\".format(score[1]))"
   ]
  },
  {
   "cell_type": "code",
   "execution_count": 0,
   "metadata": {
    "colab": {},
    "colab_type": "code",
    "id": "Ra6n-jO2QO6e"
   },
   "outputs": [],
   "source": [
    "def plot_history(logger, title): #function for plotting learning curve\n",
    "    df = pd.DataFrame(logger.history)\n",
    "    df[['accuracy', 'val_accuracy']].plot()\n",
    "    plt.title(title)\n",
    "    plt.ylabel(\"accuracy\")\n",
    "    plt.xlabel(\"epochs\")\n",
    "    df[['loss', 'val_loss']].plot(linestyle='--', ax=plt.twinx())\n",
    "    plt.ylabel(\"loss\")\n",
    " "
   ]
  },
  {
   "cell_type": "code",
   "execution_count": 0,
   "metadata": {
    "colab": {
     "base_uri": "https://localhost:8080/",
     "height": 295
    },
    "colab_type": "code",
    "id": "tTrwvJAUSMHO",
    "outputId": "627846ad-7d5e-4cfe-afc9-3a78b5103f39"
   },
   "outputs": [
    {
     "data": {
      "image/png": "[encoded data removed]",
      "text/plain": [
       "<Figure size 432x288 with 2 Axes>"
      ]
     },
     "metadata": {
      "needs_background": "light",
      "tags": []
     },
     "output_type": "display_data"
    }
   ],
   "source": [
    "plot_history(history_callback, \"Learning Curve Vanilla Model\") #could run longer? accuracy not yet stabilised? or is that the point? "
   ]
  },
  {
   "cell_type": "code",
   "execution_count": 0,
   "metadata": {
    "colab": {
     "base_uri": "https://localhost:8080/",
     "height": 1000
    },
    "colab_type": "code",
    "id": "O7CwjLHsTz0B",
    "outputId": "42c5951b-3b96-4663-e1f1-454dac3d718a"
   },
   "outputs": [
    {
     "name": "stdout",
     "output_type": "stream",
     "text": [
      "Train on 50000 samples, validate on 10000 samples\n",
      "Epoch 1/50\n",
      "50000/50000 [==============================] - 2s 38us/step - loss: 0.9482 - accuracy: 0.6677 - val_loss: 0.5370 - val_accuracy: 0.8120\n",
      "Epoch 2/50\n",
      "50000/50000 [==============================] - 2s 36us/step - loss: 0.6622 - accuracy: 0.7688 - val_loss: 0.4840 - val_accuracy: 0.8269\n",
      "Epoch 3/50\n",
      "50000/50000 [==============================] - 2s 36us/step - loss: 0.6027 - accuracy: 0.7889 - val_loss: 0.4499 - val_accuracy: 0.8339\n",
      "Epoch 4/50\n",
      "50000/50000 [==============================] - 2s 36us/step - loss: 0.5693 - accuracy: 0.7998 - val_loss: 0.4266 - val_accuracy: 0.8458\n",
      "Epoch 5/50\n",
      "50000/50000 [==============================] - 2s 36us/step - loss: 0.5536 - accuracy: 0.8037 - val_loss: 0.4179 - val_accuracy: 0.8524\n",
      "Epoch 6/50\n",
      "50000/50000 [==============================] - 2s 38us/step - loss: 0.5400 - accuracy: 0.8070 - val_loss: 0.4142 - val_accuracy: 0.8473\n",
      "Epoch 7/50\n",
      "50000/50000 [==============================] - 2s 37us/step - loss: 0.5249 - accuracy: 0.8123 - val_loss: 0.4104 - val_accuracy: 0.8507\n",
      "Epoch 8/50\n",
      "50000/50000 [==============================] - 2s 36us/step - loss: 0.5117 - accuracy: 0.8182 - val_loss: 0.3985 - val_accuracy: 0.8560\n",
      "Epoch 9/50\n",
      "50000/50000 [==============================] - 2s 37us/step - loss: 0.5068 - accuracy: 0.8189 - val_loss: 0.3972 - val_accuracy: 0.8601\n",
      "Epoch 10/50\n",
      "50000/50000 [==============================] - 2s 37us/step - loss: 0.4988 - accuracy: 0.8223 - val_loss: 0.3899 - val_accuracy: 0.8589\n",
      "Epoch 11/50\n",
      "50000/50000 [==============================] - 2s 38us/step - loss: 0.4991 - accuracy: 0.8207 - val_loss: 0.3888 - val_accuracy: 0.8608\n",
      "Epoch 12/50\n",
      "50000/50000 [==============================] - 2s 36us/step - loss: 0.4862 - accuracy: 0.8248 - val_loss: 0.3849 - val_accuracy: 0.8615\n",
      "Epoch 13/50\n",
      "50000/50000 [==============================] - 2s 36us/step - loss: 0.4862 - accuracy: 0.8227 - val_loss: 0.3905 - val_accuracy: 0.8585\n",
      "Epoch 14/50\n",
      "50000/50000 [==============================] - 2s 36us/step - loss: 0.4811 - accuracy: 0.8248 - val_loss: 0.3943 - val_accuracy: 0.8569\n",
      "Epoch 15/50\n",
      "50000/50000 [==============================] - 2s 35us/step - loss: 0.4768 - accuracy: 0.8264 - val_loss: 0.3790 - val_accuracy: 0.8632\n",
      "Epoch 16/50\n",
      "50000/50000 [==============================] - 2s 35us/step - loss: 0.4767 - accuracy: 0.8276 - val_loss: 0.3860 - val_accuracy: 0.8605\n",
      "Epoch 17/50\n",
      "50000/50000 [==============================] - 2s 37us/step - loss: 0.4725 - accuracy: 0.8289 - val_loss: 0.3835 - val_accuracy: 0.8636\n",
      "Epoch 18/50\n",
      "50000/50000 [==============================] - 2s 37us/step - loss: 0.4704 - accuracy: 0.8285 - val_loss: 0.3884 - val_accuracy: 0.8608\n",
      "Epoch 19/50\n",
      "50000/50000 [==============================] - 2s 38us/step - loss: 0.4682 - accuracy: 0.8295 - val_loss: 0.3756 - val_accuracy: 0.8644\n",
      "Epoch 20/50\n",
      "50000/50000 [==============================] - 2s 36us/step - loss: 0.4651 - accuracy: 0.8291 - val_loss: 0.3773 - val_accuracy: 0.8650\n",
      "Epoch 21/50\n",
      "50000/50000 [==============================] - 2s 38us/step - loss: 0.4644 - accuracy: 0.8292 - val_loss: 0.3728 - val_accuracy: 0.8660\n",
      "Epoch 22/50\n",
      "50000/50000 [==============================] - 2s 39us/step - loss: 0.4645 - accuracy: 0.8299 - val_loss: 0.3852 - val_accuracy: 0.8633\n",
      "Epoch 23/50\n",
      "50000/50000 [==============================] - 2s 37us/step - loss: 0.4611 - accuracy: 0.8321 - val_loss: 0.3770 - val_accuracy: 0.8656\n",
      "Epoch 24/50\n",
      "50000/50000 [==============================] - 2s 36us/step - loss: 0.4564 - accuracy: 0.8314 - val_loss: 0.3772 - val_accuracy: 0.8668\n",
      "Epoch 25/50\n",
      "50000/50000 [==============================] - 2s 38us/step - loss: 0.4525 - accuracy: 0.8332 - val_loss: 0.3772 - val_accuracy: 0.8632\n",
      "Epoch 26/50\n",
      "50000/50000 [==============================] - 2s 38us/step - loss: 0.4556 - accuracy: 0.8331 - val_loss: 0.3768 - val_accuracy: 0.8675\n",
      "Epoch 27/50\n",
      "50000/50000 [==============================] - 2s 38us/step - loss: 0.4525 - accuracy: 0.8328 - val_loss: 0.3727 - val_accuracy: 0.8679\n",
      "Epoch 28/50\n",
      "50000/50000 [==============================] - 2s 37us/step - loss: 0.4501 - accuracy: 0.8333 - val_loss: 0.3769 - val_accuracy: 0.8660\n",
      "Epoch 29/50\n",
      "50000/50000 [==============================] - 2s 38us/step - loss: 0.4457 - accuracy: 0.8351 - val_loss: 0.3736 - val_accuracy: 0.8681\n",
      "Epoch 30/50\n",
      "50000/50000 [==============================] - 2s 37us/step - loss: 0.4493 - accuracy: 0.8354 - val_loss: 0.3703 - val_accuracy: 0.8666\n",
      "Epoch 31/50\n",
      "50000/50000 [==============================] - 2s 36us/step - loss: 0.4454 - accuracy: 0.8372 - val_loss: 0.3714 - val_accuracy: 0.8674\n",
      "Epoch 32/50\n",
      "50000/50000 [==============================] - 2s 36us/step - loss: 0.4444 - accuracy: 0.8338 - val_loss: 0.3684 - val_accuracy: 0.8700\n",
      "Epoch 33/50\n",
      "50000/50000 [==============================] - 2s 38us/step - loss: 0.4423 - accuracy: 0.8361 - val_loss: 0.3710 - val_accuracy: 0.8696\n",
      "Epoch 34/50\n",
      "50000/50000 [==============================] - 2s 36us/step - loss: 0.4422 - accuracy: 0.8370 - val_loss: 0.3725 - val_accuracy: 0.8697\n",
      "Epoch 35/50\n",
      "50000/50000 [==============================] - 2s 38us/step - loss: 0.4432 - accuracy: 0.8356 - val_loss: 0.3734 - val_accuracy: 0.8681\n",
      "Epoch 36/50\n",
      "50000/50000 [==============================] - 2s 36us/step - loss: 0.4377 - accuracy: 0.8366 - val_loss: 0.3749 - val_accuracy: 0.8690\n",
      "Epoch 37/50\n",
      "50000/50000 [==============================] - 2s 37us/step - loss: 0.4376 - accuracy: 0.8366 - val_loss: 0.3751 - val_accuracy: 0.8691\n",
      "Epoch 38/50\n",
      "50000/50000 [==============================] - 2s 37us/step - loss: 0.4356 - accuracy: 0.8386 - val_loss: 0.3744 - val_accuracy: 0.8650\n",
      "Epoch 39/50\n",
      "50000/50000 [==============================] - 2s 36us/step - loss: 0.4330 - accuracy: 0.8375 - val_loss: 0.3742 - val_accuracy: 0.8695\n",
      "Epoch 40/50\n",
      "50000/50000 [==============================] - 2s 38us/step - loss: 0.4338 - accuracy: 0.8367 - val_loss: 0.3752 - val_accuracy: 0.8673\n",
      "Epoch 41/50\n",
      "50000/50000 [==============================] - 2s 38us/step - loss: 0.4346 - accuracy: 0.8385 - val_loss: 0.3755 - val_accuracy: 0.8678\n",
      "Epoch 42/50\n",
      "50000/50000 [==============================] - 2s 37us/step - loss: 0.4371 - accuracy: 0.8368 - val_loss: 0.3716 - val_accuracy: 0.8685\n",
      "Epoch 43/50\n",
      "50000/50000 [==============================] - 2s 36us/step - loss: 0.4322 - accuracy: 0.8388 - val_loss: 0.3756 - val_accuracy: 0.8673\n",
      "Epoch 44/50\n",
      "50000/50000 [==============================] - 2s 37us/step - loss: 0.4308 - accuracy: 0.8392 - val_loss: 0.3750 - val_accuracy: 0.8686\n",
      "Epoch 45/50\n",
      "50000/50000 [==============================] - 2s 35us/step - loss: 0.4274 - accuracy: 0.8413 - val_loss: 0.3690 - val_accuracy: 0.8673\n",
      "Epoch 46/50\n",
      "50000/50000 [==============================] - 2s 37us/step - loss: 0.4255 - accuracy: 0.8397 - val_loss: 0.3731 - val_accuracy: 0.8692\n",
      "Epoch 47/50\n",
      "50000/50000 [==============================] - 2s 38us/step - loss: 0.4245 - accuracy: 0.8407 - val_loss: 0.3753 - val_accuracy: 0.8716\n",
      "Epoch 48/50\n",
      "50000/50000 [==============================] - 2s 35us/step - loss: 0.4250 - accuracy: 0.8398 - val_loss: 0.3782 - val_accuracy: 0.8691\n",
      "Epoch 49/50\n",
      "50000/50000 [==============================] - 2s 40us/step - loss: 0.4259 - accuracy: 0.8411 - val_loss: 0.3738 - val_accuracy: 0.8702\n",
      "Epoch 50/50\n",
      "50000/50000 [==============================] - 2s 40us/step - loss: 0.4235 - accuracy: 0.8404 - val_loss: 0.3764 - val_accuracy: 0.8703\n"
     ]
    }
   ],
   "source": [
    "#Now trying a model with drop out \n",
    "from keras.layers import Dropout\n",
    "\n",
    "model_dropout = Sequential([\n",
    "   Dense(38, input_shape=(784,), activation='relu'),\n",
    "   Dropout(.5),\n",
    "   Dense(10, activation='softmax'), \n",
    "])\n",
    "model_dropout.compile(\"adam\", \"categorical_crossentropy\", metrics=['accuracy'])\n",
    "history_dropout = model_dropout.fit(X_train, y_train, batch_size=128,\n",
    "                            epochs=50, verbose=1, validation_split=1/6)"
   ]
  },
  {
   "cell_type": "code",
   "execution_count": 0,
   "metadata": {
    "colab": {
     "base_uri": "https://localhost:8080/",
     "height": 34
    },
    "colab_type": "code",
    "id": "ThUkIHLJ323U",
    "outputId": "a22d3b1d-fc9b-4e4c-dd3c-573a4cc66b79"
   },
   "outputs": [
    {
     "data": {
      "text/plain": [
       "[0.4001912536382675, 0.8636000156402588]"
      ]
     },
     "execution_count": 12,
     "metadata": {
      "tags": []
     },
     "output_type": "execute_result"
    }
   ],
   "source": [
    "score = model_dropout.evaluate(X_test, y_test, verbose=0)\n",
    "score"
   ]
  },
  {
   "cell_type": "code",
   "execution_count": 0,
   "metadata": {
    "colab": {
     "base_uri": "https://localhost:8080/",
     "height": 295
    },
    "colab_type": "code",
    "id": "Ezc9gcMkU7dk",
    "outputId": "a1eb34ba-8912-4a04-ec93-ffb58047e2c6"
   },
   "outputs": [
    {
     "data": {
      "image/png": "[encoded data removed]",
      "text/plain": [
       "<Figure size 432x288 with 2 Axes>"
      ]
     },
     "metadata": {
      "needs_background": "light",
      "tags": []
     },
     "output_type": "display_data"
    }
   ],
   "source": [
    "plot_history(history_dropout, \"Learning Curve Dropout Model\") "
   ]
  },
  {
   "cell_type": "markdown",
   "metadata": {
    "colab_type": "text",
    "id": "riGX1OX6WPBn"
   },
   "source": [
    "From the graphs we can see that the model without dropout actually had higher accuracy score on average with lower loss than the model with dropout if all things are kept the same, probably because dropout prevents overfitting. This allows the model to learn larger networks without overfitting as much. "
   ]
  },
  {
   "cell_type": "code",
   "execution_count": 0,
   "metadata": {
    "colab": {
     "base_uri": "https://localhost:8080/",
     "height": 1000
    },
    "colab_type": "code",
    "id": "F-UOTGOUVvfi",
    "outputId": "2ef24cb8-025d-45a6-8ace-e1091b3ffcd1"
   },
   "outputs": [
    {
     "name": "stdout",
     "output_type": "stream",
     "text": [
      "Train on 50000 samples, validate on 10000 samples\n",
      "Epoch 1/50\n",
      "50000/50000 [==============================] - 2s 47us/step - loss: 0.6277 - accuracy: 0.8039 - val_loss: 0.4583 - val_accuracy: 0.8437\n",
      "Epoch 2/50\n",
      "50000/50000 [==============================] - 2s 44us/step - loss: 0.4099 - accuracy: 0.8590 - val_loss: 0.4081 - val_accuracy: 0.8552\n",
      "Epoch 3/50\n",
      "50000/50000 [==============================] - 2s 45us/step - loss: 0.3702 - accuracy: 0.8694 - val_loss: 0.4032 - val_accuracy: 0.8581\n",
      "Epoch 4/50\n",
      "50000/50000 [==============================] - 2s 44us/step - loss: 0.3441 - accuracy: 0.8776 - val_loss: 0.3719 - val_accuracy: 0.8683\n",
      "Epoch 5/50\n",
      "50000/50000 [==============================] - 2s 42us/step - loss: 0.3251 - accuracy: 0.8844 - val_loss: 0.3766 - val_accuracy: 0.8634\n",
      "Epoch 6/50\n",
      "50000/50000 [==============================] - 2s 43us/step - loss: 0.3106 - accuracy: 0.8877 - val_loss: 0.3995 - val_accuracy: 0.8590\n",
      "Epoch 7/50\n",
      "50000/50000 [==============================] - 2s 43us/step - loss: 0.2990 - accuracy: 0.8924 - val_loss: 0.3688 - val_accuracy: 0.8669\n",
      "Epoch 8/50\n",
      "50000/50000 [==============================] - 2s 42us/step - loss: 0.2868 - accuracy: 0.8965 - val_loss: 0.3815 - val_accuracy: 0.8675\n",
      "Epoch 9/50\n",
      "50000/50000 [==============================] - 2s 43us/step - loss: 0.2780 - accuracy: 0.8997 - val_loss: 0.3746 - val_accuracy: 0.8690\n",
      "Epoch 10/50\n",
      "50000/50000 [==============================] - 2s 44us/step - loss: 0.2695 - accuracy: 0.9010 - val_loss: 0.3521 - val_accuracy: 0.8751\n",
      "Epoch 11/50\n",
      "50000/50000 [==============================] - 2s 42us/step - loss: 0.2603 - accuracy: 0.9050 - val_loss: 0.3626 - val_accuracy: 0.8709\n",
      "Epoch 12/50\n",
      "50000/50000 [==============================] - 2s 46us/step - loss: 0.2519 - accuracy: 0.9077 - val_loss: 0.3807 - val_accuracy: 0.8692\n",
      "Epoch 13/50\n",
      "50000/50000 [==============================] - 2s 43us/step - loss: 0.2493 - accuracy: 0.9085 - val_loss: 0.3639 - val_accuracy: 0.8713\n",
      "Epoch 14/50\n",
      "50000/50000 [==============================] - 2s 45us/step - loss: 0.2415 - accuracy: 0.9118 - val_loss: 0.3931 - val_accuracy: 0.8601\n",
      "Epoch 15/50\n",
      "50000/50000 [==============================] - 2s 44us/step - loss: 0.2347 - accuracy: 0.9146 - val_loss: 0.3695 - val_accuracy: 0.8741\n",
      "Epoch 16/50\n",
      "50000/50000 [==============================] - 2s 42us/step - loss: 0.2312 - accuracy: 0.9153 - val_loss: 0.3888 - val_accuracy: 0.8623\n",
      "Epoch 17/50\n",
      "50000/50000 [==============================] - 2s 46us/step - loss: 0.2267 - accuracy: 0.9174 - val_loss: 0.3635 - val_accuracy: 0.8768\n",
      "Epoch 18/50\n",
      "50000/50000 [==============================] - 2s 42us/step - loss: 0.2208 - accuracy: 0.9198 - val_loss: 0.3817 - val_accuracy: 0.8683\n",
      "Epoch 19/50\n",
      "50000/50000 [==============================] - 2s 43us/step - loss: 0.2163 - accuracy: 0.9221 - val_loss: 0.3762 - val_accuracy: 0.8718\n",
      "Epoch 20/50\n",
      "50000/50000 [==============================] - 2s 43us/step - loss: 0.2122 - accuracy: 0.9230 - val_loss: 0.4008 - val_accuracy: 0.8694\n",
      "Epoch 21/50\n",
      "50000/50000 [==============================] - 2s 48us/step - loss: 0.2081 - accuracy: 0.9244 - val_loss: 0.3659 - val_accuracy: 0.8770\n",
      "Epoch 22/50\n",
      "50000/50000 [==============================] - 2s 43us/step - loss: 0.2066 - accuracy: 0.9242 - val_loss: 0.3689 - val_accuracy: 0.8754\n",
      "Epoch 23/50\n",
      "50000/50000 [==============================] - 2s 44us/step - loss: 0.2003 - accuracy: 0.9267 - val_loss: 0.3972 - val_accuracy: 0.8689\n",
      "Epoch 24/50\n",
      "50000/50000 [==============================] - 2s 45us/step - loss: 0.1971 - accuracy: 0.9284 - val_loss: 0.3828 - val_accuracy: 0.8766\n",
      "Epoch 25/50\n",
      "50000/50000 [==============================] - 2s 42us/step - loss: 0.1958 - accuracy: 0.9290 - val_loss: 0.3823 - val_accuracy: 0.8751\n",
      "Epoch 26/50\n",
      "50000/50000 [==============================] - 2s 45us/step - loss: 0.1902 - accuracy: 0.9298 - val_loss: 0.4024 - val_accuracy: 0.8710\n",
      "Epoch 27/50\n",
      "50000/50000 [==============================] - 2s 42us/step - loss: 0.1887 - accuracy: 0.9317 - val_loss: 0.4648 - val_accuracy: 0.8580\n",
      "Epoch 28/50\n",
      "50000/50000 [==============================] - 2s 45us/step - loss: 0.1849 - accuracy: 0.9328 - val_loss: 0.3981 - val_accuracy: 0.8725\n",
      "Epoch 29/50\n",
      "50000/50000 [==============================] - 2s 43us/step - loss: 0.1829 - accuracy: 0.9326 - val_loss: 0.3811 - val_accuracy: 0.8771\n",
      "Epoch 30/50\n",
      "50000/50000 [==============================] - 2s 47us/step - loss: 0.1769 - accuracy: 0.9359 - val_loss: 0.4294 - val_accuracy: 0.8599\n",
      "Epoch 31/50\n",
      "50000/50000 [==============================] - 2s 44us/step - loss: 0.1774 - accuracy: 0.9347 - val_loss: 0.4455 - val_accuracy: 0.8660\n",
      "Epoch 32/50\n",
      "50000/50000 [==============================] - 2s 45us/step - loss: 0.1741 - accuracy: 0.9371 - val_loss: 0.4162 - val_accuracy: 0.8721\n",
      "Epoch 33/50\n",
      "50000/50000 [==============================] - 2s 48us/step - loss: 0.1727 - accuracy: 0.9373 - val_loss: 0.4281 - val_accuracy: 0.8688\n",
      "Epoch 34/50\n",
      "50000/50000 [==============================] - 2s 42us/step - loss: 0.1705 - accuracy: 0.9380 - val_loss: 0.4132 - val_accuracy: 0.8738\n",
      "Epoch 35/50\n",
      "50000/50000 [==============================] - 2s 43us/step - loss: 0.1682 - accuracy: 0.9380 - val_loss: 0.4500 - val_accuracy: 0.8653\n",
      "Epoch 36/50\n",
      "50000/50000 [==============================] - 2s 43us/step - loss: 0.1641 - accuracy: 0.9413 - val_loss: 0.4307 - val_accuracy: 0.8643\n",
      "Epoch 37/50\n",
      "50000/50000 [==============================] - 2s 45us/step - loss: 0.1611 - accuracy: 0.9419 - val_loss: 0.4236 - val_accuracy: 0.8709\n",
      "Epoch 38/50\n",
      "50000/50000 [==============================] - 2s 43us/step - loss: 0.1609 - accuracy: 0.9412 - val_loss: 0.4629 - val_accuracy: 0.8600\n",
      "Epoch 39/50\n",
      "50000/50000 [==============================] - 2s 48us/step - loss: 0.1580 - accuracy: 0.9429 - val_loss: 0.4389 - val_accuracy: 0.8671\n",
      "Epoch 40/50\n",
      "50000/50000 [==============================] - 2s 45us/step - loss: 0.1579 - accuracy: 0.9421 - val_loss: 0.4300 - val_accuracy: 0.8709\n",
      "Epoch 41/50\n",
      "50000/50000 [==============================] - 2s 41us/step - loss: 0.1580 - accuracy: 0.9431 - val_loss: 0.4534 - val_accuracy: 0.8696\n",
      "Epoch 42/50\n",
      "50000/50000 [==============================] - 2s 42us/step - loss: 0.1548 - accuracy: 0.9431 - val_loss: 0.4426 - val_accuracy: 0.8685\n",
      "Epoch 43/50\n",
      "50000/50000 [==============================] - 2s 45us/step - loss: 0.1495 - accuracy: 0.9460 - val_loss: 0.4525 - val_accuracy: 0.8687\n",
      "Epoch 44/50\n",
      "50000/50000 [==============================] - 2s 44us/step - loss: 0.1471 - accuracy: 0.9463 - val_loss: 0.4736 - val_accuracy: 0.8586\n",
      "Epoch 45/50\n",
      "50000/50000 [==============================] - 2s 42us/step - loss: 0.1451 - accuracy: 0.9478 - val_loss: 0.5693 - val_accuracy: 0.8375\n",
      "Epoch 46/50\n",
      "50000/50000 [==============================] - 2s 44us/step - loss: 0.1471 - accuracy: 0.9467 - val_loss: 0.5242 - val_accuracy: 0.8536\n",
      "Epoch 47/50\n",
      "50000/50000 [==============================] - 2s 42us/step - loss: 0.1436 - accuracy: 0.9491 - val_loss: 0.5388 - val_accuracy: 0.8505\n",
      "Epoch 48/50\n",
      "50000/50000 [==============================] - 2s 45us/step - loss: 0.1433 - accuracy: 0.9482 - val_loss: 0.4897 - val_accuracy: 0.8633\n",
      "Epoch 49/50\n",
      "50000/50000 [==============================] - 2s 44us/step - loss: 0.1410 - accuracy: 0.9488 - val_loss: 0.5846 - val_accuracy: 0.8382\n",
      "Epoch 50/50\n",
      "50000/50000 [==============================] - 2s 43us/step - loss: 0.1382 - accuracy: 0.9490 - val_loss: 0.5013 - val_accuracy: 0.8627\n"
     ]
    }
   ],
   "source": [
    "#Adding batch normalisation to the vanilla model \n",
    "from keras.layers import BatchNormalization\n",
    "model_bn = Sequential([ \n",
    "    Dense(38, input_shape=(784,)),\n",
    "    BatchNormalization(),\n",
    "    Activation(\"relu\"),\n",
    "    Dense(10, activation='softmax')\n",
    "])\n",
    "model_bn.compile(\"adam\", \"categorical_crossentropy\", metrics=['accuracy'])\n",
    "history_bn = model_bn.fit(X_train, y_train, batch_size=128,\n",
    "                            epochs=50, verbose=1, validation_split=1/6)\n"
   ]
  },
  {
   "cell_type": "code",
   "execution_count": 0,
   "metadata": {
    "colab": {
     "base_uri": "https://localhost:8080/",
     "height": 34
    },
    "colab_type": "code",
    "id": "0gdmhFGo4ePH",
    "outputId": "626e361d-8b3d-4211-9d66-636d12346f11"
   },
   "outputs": [
    {
     "data": {
      "text/plain": [
       "[0.5240932049036026, 0.8551999926567078]"
      ]
     },
     "execution_count": 15,
     "metadata": {
      "tags": []
     },
     "output_type": "execute_result"
    }
   ],
   "source": [
    "score = model_bn.evaluate(X_test, y_test, verbose=0)\n",
    "score"
   ]
  },
  {
   "cell_type": "code",
   "execution_count": 0,
   "metadata": {
    "colab": {
     "base_uri": "https://localhost:8080/",
     "height": 295
    },
    "colab_type": "code",
    "id": "LEyj3ndHYD4k",
    "outputId": "88814d0e-6bbb-453d-98ba-2c60c956034e"
   },
   "outputs": [
    {
     "data": {
      "image/png": "[encoded data removed]",
      "text/plain": [
       "<Figure size 432x288 with 2 Axes>"
      ]
     },
     "metadata": {
      "needs_background": "light",
      "tags": []
     },
     "output_type": "display_data"
    }
   ],
   "source": [
    "plot_history(history_bn, \"Learning Curve BN Model\") "
   ]
  },
  {
   "cell_type": "markdown",
   "metadata": {
    "colab_type": "text",
    "id": "UYmz6JtZY3Gc"
   },
   "source": [
    "The model with batch normalisation performed better (had the highest train accuracy in the last epoch) than the model with dropout, however the validation accuracy and loss are more unstable. BN allows for faster learning rate."
   ]
  }
 ],
 "metadata": {
  "accelerator": "GPU",
  "colab": {
   "collapsed_sections": [],
   "name": "Task 2.ipynb",
   "provenance": []
  },
  "kernelspec": {
   "display_name": "Python 3",
   "language": "python",
   "name": "python3"
  },
  "language_info": {
   "codemirror_mode": {
    "name": "ipython",
    "version": 3
   },
   "file_extension": ".py",
   "mimetype": "text/x-python",
   "name": "python",
   "nbconvert_exporter": "python",
   "pygments_lexer": "ipython3",
   "version": "3.7.3"
  }
 },
 "nbformat": 4,
 "nbformat_minor": 1
}
